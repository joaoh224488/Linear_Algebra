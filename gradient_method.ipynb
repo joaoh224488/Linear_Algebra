{
 "cells": [
  {
   "cell_type": "code",
   "execution_count": 1,
   "metadata": {},
   "outputs": [],
   "source": [
    "import numpy as np"
   ]
  },
  {
   "cell_type": "code",
   "execution_count": 2,
   "metadata": {},
   "outputs": [],
   "source": [
    "'''def gradient_method(A: np.ndarray, b: np.ndarray, x0: np.ndarray, max_iter: int) -> np.ndarray:\n",
    "    \"\"\"\n",
    "    Solves the linear system Ax = b using the gradient method.\n",
    "    :param A: A square matrix of shape (n, n).\n",
    "    :param b: A vector of shape (n,).\n",
    "    :param x0: A vector of shape (n,).\n",
    "    :param max_iter: The maximum number of iterations.\n",
    "    :return: A vector of shape (n,) that is a solution to Ax = b.\n",
    "    \"\"\"\n",
    "    x = x0\n",
    "    for i in range(max_iter):\n",
    "        x = x - np.dot(np.linalg.inv(A), np.dot(A, x) - b)\n",
    "    return x'''"
   ]
  },
  {
   "cell_type": "code",
   "execution_count": 7,
   "metadata": {},
   "outputs": [
    {
     "ename": "SyntaxError",
     "evalue": "invalid syntax (3078876159.py, line 3)",
     "output_type": "error",
     "traceback": [
      "\u001b[0;36m  File \u001b[0;32m\"/tmp/ipykernel_63049/3078876159.py\"\u001b[0;36m, line \u001b[0;32m3\u001b[0m\n\u001b[0;31m    t =\u001b[0m\n\u001b[0m        ^\u001b[0m\n\u001b[0;31mSyntaxError\u001b[0m\u001b[0;31m:\u001b[0m invalid syntax\n"
     ]
    }
   ],
   "source": [
    "def gradient_method(A: np.ndarray, b: np.ndarray, x0: np.array ,max_iter: int) -> np.ndarray:\n",
    "    x = x0\n",
    "    n = len(b)\n",
    "    t = np.zeros((1, n))\n",
    "\n",
    "    r = b - np.dot(A, x)\n",
    "    for k in range(max_iter):\n",
    "        t = np.inner()"
   ]
  },
  {
   "cell_type": "code",
   "execution_count": 3,
   "metadata": {},
   "outputs": [],
   "source": [
    "A = np.array([[2, -1, 0], [1, 6, -2], [4, -3, 8]])\n",
    "b = np.array([2, -4, 5])"
   ]
  },
  {
   "cell_type": "code",
   "execution_count": 5,
   "metadata": {},
   "outputs": [],
   "source": [
    "x0 = np.array([0, 0, 0])\n",
    "max_iter = 100"
   ]
  },
  {
   "cell_type": "code",
   "execution_count": 6,
   "metadata": {},
   "outputs": [
    {
     "data": {
      "text/plain": [
       "array([ 0.62, -0.76,  0.03])"
      ]
     },
     "execution_count": 6,
     "metadata": {},
     "output_type": "execute_result"
    }
   ],
   "source": [
    "gradient_method(A, b, x0, max_iter)"
   ]
  }
 ],
 "metadata": {
  "kernelspec": {
   "display_name": "Python 3.9.7 ('base')",
   "language": "python",
   "name": "python3"
  },
  "language_info": {
   "codemirror_mode": {
    "name": "ipython",
    "version": 3
   },
   "file_extension": ".py",
   "mimetype": "text/x-python",
   "name": "python",
   "nbconvert_exporter": "python",
   "pygments_lexer": "ipython3",
   "version": "3.9.7"
  },
  "orig_nbformat": 4,
  "vscode": {
   "interpreter": {
    "hash": "4e7e4edc79d43486975e43ffb9f70caa5d73df88ab12157b795d6266fbee6759"
   }
  }
 },
 "nbformat": 4,
 "nbformat_minor": 2
}
