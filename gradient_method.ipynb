{
 "cells": [
  {
   "cell_type": "code",
   "execution_count": 1,
   "metadata": {},
   "outputs": [],
   "source": [
    "import numpy as np"
   ]
  },
  {
   "cell_type": "code",
   "execution_count": 2,
   "metadata": {},
   "outputs": [
    {
     "data": {
      "text/plain": [
       "'def gradient_method(A: np.ndarray, b: np.ndarray, x0: np.ndarray, max_iter: int) -> np.ndarray:\\n    \"\"\"\\n    Solves the linear system Ax = b using the gradient method.\\n    :param A: A square matrix of shape (n, n).\\n    :param b: A vector of shape (n,).\\n    :param x0: A vector of shape (n,).\\n    :param max_iter: The maximum number of iterations.\\n    :return: A vector of shape (n,) that is a solution to Ax = b.\\n    \"\"\"\\n    x = x0\\n    for i in range(max_iter):\\n        x = x - np.dot(np.linalg.inv(A), np.dot(A, x) - b)\\n    return x'"
      ]
     },
     "execution_count": 2,
     "metadata": {},
     "output_type": "execute_result"
    }
   ],
   "source": [
    "'''def gradient_method(A: np.ndarray, b: np.ndarray, x0: np.ndarray, max_iter: int) -> np.ndarray:\n",
    "    \"\"\"\n",
    "    Solves the linear system Ax = b using the gradient method.\n",
    "    :param A: A square matrix of shape (n, n).\n",
    "    :param b: A vector of shape (n,).\n",
    "    :param x0: A vector of shape (n,).\n",
    "    :param max_iter: The maximum number of iterations.\n",
    "    :return: A vector of shape (n,) that is a solution to Ax = b.\n",
    "    \"\"\"\n",
    "    x = x0\n",
    "    for i in range(max_iter):\n",
    "        x = x - np.dot(np.linalg.inv(A), np.dot(A, x) - b)\n",
    "    return x'''"
   ]
  },
  {
   "cell_type": "code",
   "execution_count": 3,
   "metadata": {},
   "outputs": [],
   "source": [
    "def is_simetric(A):\n",
    "    return np.allclose(A, A.T)"
   ]
  },
  {
   "cell_type": "code",
   "execution_count": 4,
   "metadata": {},
   "outputs": [],
   "source": [
    "def is_positive_definite(A):\n",
    "    return np.all(np.linalg.eigvals(A) > 0)"
   ]
  },
  {
   "cell_type": "code",
   "execution_count": 5,
   "metadata": {},
   "outputs": [],
   "source": [
    "def gradient_method(A: np.ndarray, b: np.ndarray, x0: np.array ,max_iter: int) -> np.ndarray:\n",
    "    if not is_simetric(A):\n",
    "        raise Exception(\"A is not simetric\")\n",
    "    if not is_positive_definite(A):\n",
    "        raise Exception(\"A is not positive definite\")\n",
    "        \n",
    "    x = x0\n",
    "    n = len(b)\n",
    "    t = np.zeros((1, n))\n",
    "\n",
    "    r = b - np.dot(A, x)\n",
    "\n",
    "    for k in range(max_iter):\n",
    "        t = np.inner(r, r)\n",
    "\n",
    "        t /= np.inner(r, np.dot(A, r))\n",
    "\n",
    "        x = x + np.dot(t, r)\n",
    "\n",
    "        r = r - np.dot(t, np.dot(A, r))\n",
    "    \n",
    "    for i in range(len(x)):\n",
    "        x[i] = round(x[i], 5)\n",
    "    return x"
   ]
  },
  {
   "cell_type": "code",
   "execution_count": 6,
   "metadata": {},
   "outputs": [],
   "source": [
    "A = np.array([[1, -1], [-1, 2]])\n",
    "b = np.array([4, -4])"
   ]
  },
  {
   "cell_type": "code",
   "execution_count": 7,
   "metadata": {},
   "outputs": [],
   "source": [
    "x0 = np.array([0 for i in range(len(b))])\n"
   ]
  },
  {
   "cell_type": "code",
   "execution_count": 8,
   "metadata": {},
   "outputs": [
    {
     "data": {
      "text/plain": [
       "array([4., 0.])"
      ]
     },
     "execution_count": 8,
     "metadata": {},
     "output_type": "execute_result"
    }
   ],
   "source": [
    "gradient_method(A, b, x0, max_iter)"
   ]
  }
 ],
 "metadata": {
  "kernelspec": {
   "display_name": "Python 3.9.7 ('base')",
   "language": "python",
   "name": "python3"
  },
  "language_info": {
   "codemirror_mode": {
    "name": "ipython",
    "version": 3
   },
   "file_extension": ".py",
   "mimetype": "text/x-python",
   "name": "python",
   "nbconvert_exporter": "python",
   "pygments_lexer": "ipython3",
   "version": "3.9.7"
  },
  "orig_nbformat": 4,
  "vscode": {
   "interpreter": {
    "hash": "4e7e4edc79d43486975e43ffb9f70caa5d73df88ab12157b795d6266fbee6759"
   }
  }
 },
 "nbformat": 4,
 "nbformat_minor": 2
}
