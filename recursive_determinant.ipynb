{
 "cells": [
  {
   "cell_type": "code",
   "execution_count": 1,
   "metadata": {},
   "outputs": [],
   "source": [
    "import numpy as np"
   ]
  },
  {
   "cell_type": "markdown",
   "metadata": {},
   "source": [
    "A ideia é fazer uma implementação recursiva do determinante de uma matriz quadrada\n",
    "usando a regra dos cofatores.\n",
    "\n",
    "A regra dos cofatores é uma fórmula para calcular o determinante de uma matriz\n",
    "quadrada A de ordem n, que consiste em calcular o determinante de cada uma das\n",
    "matrizes quadradas de ordem n-1 que se obtém ao eliminar uma linha e uma coluna\n",
    "de A, multiplicar cada um desses determinantes por um fator de sinal alternado ( -1 ^ i)\n",
    "e somar os resultados.\n",
    "\n",
    "Para calcular o determinante de uma matriz 2x2, basta aplicar a fórmula\n",
    "det(A) = a11 * a22 - a12 * a21.\n",
    "\n",
    "Além de corrigir o sinal, na hora de selecionar as linhas e colunas, é preciso\n",
    "eliminar a linha de cima (que contém os cofatores) e considerar, apenas, as colunas\n",
    "que não correspondem à coluna do cofator."
   ]
  },
  {
   "cell_type": "code",
   "execution_count": 78,
   "metadata": {},
   "outputs": [],
   "source": [
    "def recursive_determinant(A: np.ndarray) -> float:\n",
    "    n = A.shape[0]\n",
    "\n",
    "    if n == 2:\n",
    "        return A[0, 0] * A[1, 1] - A[0, 1] * A[1, 0]\n",
    "    \n",
    "    det = 0\n",
    "    for i in range(n):\n",
    "        det += (-1)**i * A[0, i] * recursive_determinant(A[1:, [k for k in range(n) if k != i]])\n",
    "    return det"
   ]
  },
  {
   "cell_type": "code",
   "execution_count": 82,
   "metadata": {},
   "outputs": [],
   "source": [
    "B = np.array([[1, 1], [2, 1]])"
   ]
  },
  {
   "cell_type": "code",
   "execution_count": 70,
   "metadata": {},
   "outputs": [],
   "source": [
    "A = np.array([[1, 1, 2, 4, 5, 6], [8, 7, 32, 0, 22, 1], [23, 76, 1, 2, 3, 4], [5, 6, 7, 8, 9, 10], [11, 12, 13, 14, 15, 16], [17, 18, 19, 20, 21, 22]])"
   ]
  },
  {
   "cell_type": "code",
   "execution_count": 84,
   "metadata": {},
   "outputs": [
    {
     "data": {
      "text/plain": [
       "-1"
      ]
     },
     "execution_count": 84,
     "metadata": {},
     "output_type": "execute_result"
    }
   ],
   "source": [
    "recursive_determinant(B)"
   ]
  },
  {
   "cell_type": "code",
   "execution_count": 86,
   "metadata": {},
   "outputs": [
    {
     "data": {
      "text/plain": [
       "-1.0"
      ]
     },
     "execution_count": 86,
     "metadata": {},
     "output_type": "execute_result"
    }
   ],
   "source": [
    "np.linalg.det(B)"
   ]
  },
  {
   "cell_type": "code",
   "execution_count": 85,
   "metadata": {},
   "outputs": [
    {
     "data": {
      "text/plain": [
       "0"
      ]
     },
     "execution_count": 85,
     "metadata": {},
     "output_type": "execute_result"
    }
   ],
   "source": [
    "recursive_determinant(A)"
   ]
  },
  {
   "cell_type": "code",
   "execution_count": 88,
   "metadata": {},
   "outputs": [
    {
     "data": {
      "text/plain": [
       "-3.278444182797097e-11"
      ]
     },
     "execution_count": 88,
     "metadata": {},
     "output_type": "execute_result"
    }
   ],
   "source": [
    "np.linalg.det(A)"
   ]
  }
 ],
 "metadata": {
  "kernelspec": {
   "display_name": "Python 3.9.7 ('base')",
   "language": "python",
   "name": "python3"
  },
  "language_info": {
   "codemirror_mode": {
    "name": "ipython",
    "version": 3
   },
   "file_extension": ".py",
   "mimetype": "text/x-python",
   "name": "python",
   "nbconvert_exporter": "python",
   "pygments_lexer": "ipython3",
   "version": "3.9.7"
  },
  "orig_nbformat": 4,
  "vscode": {
   "interpreter": {
    "hash": "4e7e4edc79d43486975e43ffb9f70caa5d73df88ab12157b795d6266fbee6759"
   }
  }
 },
 "nbformat": 4,
 "nbformat_minor": 2
}
