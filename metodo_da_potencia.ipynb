{
 "cells": [
  {
   "cell_type": "code",
   "execution_count": 18,
   "metadata": {},
   "outputs": [],
   "source": [
    "import numpy as np\n",
    "from collections import namedtuple"
   ]
  },
  {
   "cell_type": "code",
   "execution_count": 19,
   "metadata": {},
   "outputs": [],
   "source": [
    "def metodo_da_potencia(A:np.array, x0:np.array, max_iter:int):\n",
    "    \"\"\"\n",
    "    Calcula o autovalor dominante e o autovetor associado de uma matriz A\n",
    "    utilizando o método da potência.\n",
    "    \"\"\"\n",
    "    result = namedtuple('result', ['autovalor', 'autovetor'])\n",
    "    x = x0\n",
    "    \n",
    "    p_x = np.argmax(np.abs(x))\n",
    "    x_max = x[p_x]\n",
    "\n",
    "    for k in range(max_iter):\n",
    "        y = A @ x\n",
    "        lbd = y[p_x] / x_max\n",
    "        p_y = np.argmax(np.abs(y))\n",
    "\n",
    "        if y[p_y] == 0:\n",
    "            return result(0, x)\n",
    "        \n",
    "        x = y / y[p_y]\n",
    "\n",
    "    \n",
    "    return result(lbd, x)"
   ]
  },
  {
   "cell_type": "code",
   "execution_count": 4,
   "metadata": {},
   "outputs": [],
   "source": [
    "A = np.array([[3, -1, 1], [-1, 5, -1], [1, -1, 3]])"
   ]
  },
  {
   "cell_type": "code",
   "execution_count": 13,
   "metadata": {},
   "outputs": [],
   "source": [
    "x0 = np.array([1, -1, 1])\n",
    "iter = 15"
   ]
  },
  {
   "cell_type": "code",
   "execution_count": 21,
   "metadata": {},
   "outputs": [],
   "source": [
    "teste = metodo_da_potencia(A, x0, iter)"
   ]
  },
  {
   "cell_type": "code",
   "execution_count": 26,
   "metadata": {},
   "outputs": [
    {
     "data": {
      "text/plain": [
       "result(autovalor=-3.0, autovetor=array([-0.5,  1. , -0.5]))"
      ]
     },
     "execution_count": 26,
     "metadata": {},
     "output_type": "execute_result"
    }
   ],
   "source": [
    "teste"
   ]
  },
  {
   "cell_type": "code",
   "execution_count": 24,
   "metadata": {},
   "outputs": [
    {
     "data": {
      "text/plain": [
       "6.0"
      ]
     },
     "execution_count": 24,
     "metadata": {},
     "output_type": "execute_result"
    }
   ],
   "source": [
    "teste[0] * -2"
   ]
  },
  {
   "cell_type": "code",
   "execution_count": 25,
   "metadata": {},
   "outputs": [
    {
     "data": {
      "text/plain": [
       "array([ 1., -2.,  1.])"
      ]
     },
     "execution_count": 25,
     "metadata": {},
     "output_type": "execute_result"
    }
   ],
   "source": [
    "teste[1] * -2"
   ]
  }
 ],
 "metadata": {
  "kernelspec": {
   "display_name": "Python 3.9.7 ('base')",
   "language": "python",
   "name": "python3"
  },
  "language_info": {
   "codemirror_mode": {
    "name": "ipython",
    "version": 3
   },
   "file_extension": ".py",
   "mimetype": "text/x-python",
   "name": "python",
   "nbconvert_exporter": "python",
   "pygments_lexer": "ipython3",
   "version": "3.9.7"
  },
  "orig_nbformat": 4,
  "vscode": {
   "interpreter": {
    "hash": "4e7e4edc79d43486975e43ffb9f70caa5d73df88ab12157b795d6266fbee6759"
   }
  }
 },
 "nbformat": 4,
 "nbformat_minor": 2
}
