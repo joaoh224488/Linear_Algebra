{
 "cells": [
  {
   "cell_type": "code",
   "execution_count": 47,
   "metadata": {},
   "outputs": [],
   "source": [
    "import numpy as np\n",
    "import copy"
   ]
  },
  {
   "cell_type": "code",
   "execution_count": 2,
   "metadata": {},
   "outputs": [],
   "source": [
    "def stricktly_diagonally_dominant(A:np.array):\n",
    "    n = len(A)\n",
    "    for i in range(n):\n",
    "        if abs(A[i][i]) < sum(abs(A[i][j]) for j in range(n) if j != i):\n",
    "            return False\n",
    "    return True"
   ]
  },
  {
   "cell_type": "code",
   "execution_count": 64,
   "metadata": {},
   "outputs": [],
   "source": [
    "def gauss_seidel(A:np.array, b:np.array, iter:int):\n",
    "    if not stricktly_diagonally_dominant(A):\n",
    "        raise ValueError(\"Matrix must be stricktly diagonally dominant\")\n",
    "    n = len(b)\n",
    "\n",
    "    x0 = np.zeros((n, 1))\n",
    "    x = np.zeros((n, 1))\n",
    "    for k in range(iter):\n",
    "        for i in range(n):\n",
    "            x[i] = b[i]\n",
    "            for j in range(i):\n",
    "                x[i] -= A[i][j] * x[j]\n",
    "\n",
    "            for j in range(i + 1, n):\n",
    "                x[i] -= A[i][j] * x0[j]\n",
    "            \n",
    "            x[i] /= A[i][i]\n",
    "        x0 = np.array([a for a in x])\n",
    "    return x0"
   ]
  },
  {
   "cell_type": "code",
   "execution_count": 5,
   "metadata": {},
   "outputs": [],
   "source": [
    "A = np.array([[2, -1, 0], [1, 6, -2], [4, -3, 8]])"
   ]
  },
  {
   "cell_type": "code",
   "execution_count": 7,
   "metadata": {},
   "outputs": [],
   "source": [
    "b = np.array([2, -4, 5])"
   ]
  },
  {
   "cell_type": "code",
   "execution_count": 65,
   "metadata": {},
   "outputs": [
    {
     "data": {
      "text/plain": [
       "array([[ 0.62],\n",
       "       [-0.76],\n",
       "       [ 0.03]])"
      ]
     },
     "execution_count": 65,
     "metadata": {},
     "output_type": "execute_result"
    }
   ],
   "source": [
    "gauss_seidel(A, b, 100)"
   ]
  }
 ],
 "metadata": {
  "kernelspec": {
   "display_name": "Python 3.9.7 ('base')",
   "language": "python",
   "name": "python3"
  },
  "language_info": {
   "codemirror_mode": {
    "name": "ipython",
    "version": 3
   },
   "file_extension": ".py",
   "mimetype": "text/x-python",
   "name": "python",
   "nbconvert_exporter": "python",
   "pygments_lexer": "ipython3",
   "version": "3.9.7"
  },
  "orig_nbformat": 4,
  "vscode": {
   "interpreter": {
    "hash": "4e7e4edc79d43486975e43ffb9f70caa5d73df88ab12157b795d6266fbee6759"
   }
  }
 },
 "nbformat": 4,
 "nbformat_minor": 2
}
