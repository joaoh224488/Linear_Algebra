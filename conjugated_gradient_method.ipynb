{
 "cells": [
  {
   "cell_type": "code",
   "execution_count": null,
   "metadata": {},
   "outputs": [],
   "source": [
    "import numpy as np"
   ]
  },
  {
   "cell_type": "code",
   "execution_count": null,
   "metadata": {},
   "outputs": [],
   "source": [
    "def conjugated_gradient_method(A: np.ndarray, b: np.ndarray, x0: np.array) -> np.ndarray:\n",
    "    n = len(b)\n",
    "    x = np.array([i for i in x0])\n",
    "    r = np.array([i for i in b - A @ x])\n",
    "\n",
    "    v = np.array([i for i in r])\n",
    "\n",
    "    previous_r_norm = np.dot(r, r)\n",
    "\n",
    "    for k in range(n):\n",
    "        t = previous_r_norm / np.dot(v, A @ v)\n",
    "        x = x + t * v\n",
    "\n",
    "        r = r - t * A @ v\n",
    "\n",
    "        alpha = np.dot(r, r) / previous_r_norm\n",
    "\n",
    "        v = r + alpha * v\n",
    "\n",
    "        previous_r_norm = np.dot(r, r)\n",
    "    \n",
    "    for i in range(len(x)):\n",
    "        x[i] = round(x[i], 5)\n",
    "\n",
    "    return x"
   ]
  },
  {
   "cell_type": "code",
   "execution_count": null,
   "metadata": {},
   "outputs": [],
   "source": [
    "A = np.array([[2, -1, 0], [1, 6, -2], [4, -3, 8]])\n",
    "b = np.array([2, -4, 5])\n",
    "x0 = np.array([0, 0, 0])\n"
   ]
  },
  {
   "cell_type": "code",
   "execution_count": null,
   "metadata": {},
   "outputs": [],
   "source": [
    "conjugated_gradient_method(A, b, x0)"
   ]
  }
 ],
 "metadata": {
  "kernelspec": {
   "display_name": "Python 3.9.7 ('base')",
   "language": "python",
   "name": "python3"
  },
  "language_info": {
   "codemirror_mode": {
    "name": "ipython",
    "version": 3
   },
   "file_extension": ".py",
   "mimetype": "text/x-python",
   "name": "python",
   "nbconvert_exporter": "python",
   "pygments_lexer": "ipython3",
   "version": "3.9.7"
  },
  "orig_nbformat": 4,
  "vscode": {
   "interpreter": {
    "hash": "4e7e4edc79d43486975e43ffb9f70caa5d73df88ab12157b795d6266fbee6759"
   }
  }
 },
 "nbformat": 4,
 "nbformat_minor": 2
}
