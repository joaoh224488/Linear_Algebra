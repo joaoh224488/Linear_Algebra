{
 "cells": [
  {
   "cell_type": "code",
   "execution_count": 1,
   "metadata": {},
   "outputs": [],
   "source": [
    "import numpy as np"
   ]
  },
  {
   "cell_type": "code",
   "execution_count": null,
   "metadata": {},
   "outputs": [],
   "source": [
    "'''def conjugated_gradient_method(A: np.ndarray, b: np.ndarray, x0: np.array ,max_iter: int) -> np.ndarray:\n",
    "    \"\"\"\n",
    "    Solve the linear system Ax = b using the conjugated gradient method.\n",
    "    Parameters\n",
    "    ----------\n",
    "    A : np.ndarray\n",
    "        A square, symmetric matrix.\n",
    "    b : np.ndarray\n",
    "        A vector.\n",
    "    x0 : np.ndarray\n",
    "        Initial guess.\n",
    "    max_iter : int\n",
    "        Maximum number of iterations.\n",
    "    Returns\n",
    "    -------\n",
    "    x : np.ndarray\n",
    "        Solution vector.\n",
    "    \"\"\"\n",
    "    x = x0\n",
    "    r = b - A @ x\n",
    "    p = r\n",
    "    for _ in range(max_iter):\n",
    "        alpha = (r @ r) / (p @ A @ p)\n",
    "        x = x + alpha * p\n",
    "        r = r - alpha * A @ p\n",
    "        beta = (r @ r) / (p @ r)\n",
    "        p = r + beta * p\n",
    "    return x'''"
   ]
  },
  {
   "cell_type": "code",
   "execution_count": 7,
   "metadata": {},
   "outputs": [],
   "source": [
    "def conjugated_gradient_method(A: np.ndarray, b: np.ndarray, x0: np.array ,max_iter: int) -> np.ndarray:\n",
    "    x = x0\n",
    "    n = len(b)\n",
    "    t = np.zeros((1, n))\n",
    "    r = b - np.dot(A, x)\n",
    "    v = np.array([i for i in r])\n",
    "\n",
    "    inner_previous_r = np.dot(r, r)\n",
    "\n",
    "    for k in range(max_iter):\n",
    "        t = np.inner(r, r)\n",
    "        t /= np.inner(v, np.dot(A, v))\n",
    "\n",
    "        x = x + np.dot(t, v)\n",
    "\n",
    "        r = r - np.dot(t, np.dot(A, v))\n",
    "\n",
    "        alpha = np.inner(r, r)\n",
    "        alpha /= t\n",
    "\n",
    "    return v"
   ]
  },
  {
   "cell_type": "code",
   "execution_count": 3,
   "metadata": {},
   "outputs": [],
   "source": [
    "A = np.array([[2, -1, 0], [1, 6, -2], [4, -3, 8]])\n",
    "b = np.array([2, -4, 5])\n",
    "x0 = np.array([0, 0, 0])\n",
    "max_iter = 100"
   ]
  },
  {
   "cell_type": "code",
   "execution_count": 6,
   "metadata": {},
   "outputs": [
    {
     "data": {
      "text/plain": [
       "array([ 2, -4,  5])"
      ]
     },
     "execution_count": 6,
     "metadata": {},
     "output_type": "execute_result"
    }
   ],
   "source": [
    "conjugated_gradient_method(A, b, x0, max_iter)"
   ]
  }
 ],
 "metadata": {
  "kernelspec": {
   "display_name": "Python 3.9.7 ('base')",
   "language": "python",
   "name": "python3"
  },
  "language_info": {
   "codemirror_mode": {
    "name": "ipython",
    "version": 3
   },
   "file_extension": ".py",
   "mimetype": "text/x-python",
   "name": "python",
   "nbconvert_exporter": "python",
   "pygments_lexer": "ipython3",
   "version": "3.9.7"
  },
  "orig_nbformat": 4,
  "vscode": {
   "interpreter": {
    "hash": "4e7e4edc79d43486975e43ffb9f70caa5d73df88ab12157b795d6266fbee6759"
   }
  }
 },
 "nbformat": 4,
 "nbformat_minor": 2
}
